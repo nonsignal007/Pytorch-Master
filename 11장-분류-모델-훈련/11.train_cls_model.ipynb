{
 "cells": [
  {
   "cell_type": "code",
   "execution_count": 1,
   "metadata": {},
   "outputs": [],
   "source": [
    "from torch import nn as nn\n",
    "\n",
    "class LunaModel(nn.Module):\n",
    "    def __init__(self, in_channels = 1, conv_channels = 8):\n",
    "        super().__init__()\n",
    "\n",
    "        self.tail_batchnorm = nn.BatchNorm3d(1)\n",
    "\n",
    "        self.block1 = LunaBlock(in_channels , conv_channels)\n",
    "        self.block2 = LunaBlock(conv_channels , conv_channels * 2)\n",
    "        self.block3 = LunaBlock(conv_channels * 2, conv_channels * 4)\n",
    "        self.block4 = LunaBlock(conv_channels * 4 , conv_channels * 8)\n",
    "\n",
    "        self.head_linear = nn.Linear(1152 , 2)\n",
    "        self.head_softmax = nn.Softmzx(dim = 1)\n",
    "\n",
    "    def forward(self,input_batch):\n",
    "        bn_output = self.tail_batchnorm(input_batch)\n",
    "\n",
    "        block_out = self.block1(bn_\n",
    "\n",
    "class LunaBlock(nn.Module):\n",
    "    def __init__(self, in_channels, conv_channels):\n",
    "        super().__init__()\n",
    "\n",
    "        self.conv1 = nn.Conv3d(\n",
    "            in_channels , conv_channels, kernel_size= 3, padding = 1, bias = True,\n",
    "        )\n",
    "        self.relu1 = nn.ReLU(inplace = True)\n",
    "        # inplace = True 를 사용할 때 좋은 점은 입력 텐서의 메모리를 직접 수정하여 연산속도를 향상시키는 효과가 있다.\n",
    "        # 주의할 점은 원본 텐서가 수정되기 때문에, 연산 이후 원본 텐서를 사용하는 다른 연산에 영향을 줄 수 있다는 점이다.\n",
    "        self.conv2 = nn.Conv3d(\n",
    "            conv_channels, conv_channels, kernel_size = 3, padding = 1, bias = True,\n",
    "        )\n",
    "        self.relu2 = nn.ReLU(inplace = True)\n",
    "\n",
    "        self.maxpool = nn.MaxPool3d(2,2)\n",
    "\n",
    "    def forward(self, input_batch):\n",
    "        block_out = self.conv1(input_batch)\n",
    "        block_out = self.relu1(block_out)\n",
    "        block_out = self.conv2(block_out)\n",
    "        block_out = self.relu2(block_out)\n",
    "\n",
    "        return self.maxpool(block_out)"
   ]
  },
  {
   "cell_type": "code",
   "execution_count": 2,
   "metadata": {},
   "outputs": [],
   "source": [
    "class LunaBlock(nn.Module):\n",
    "    def __init__(self, in_channels, conv_channels):\n",
    "        super().__init__()\n",
    "\n",
    "        self.conv1 = nn.Conv3d(\n",
    "            in_channels , conv_channels, kernel_size= 3, padding = 1, bias = True,\n",
    "        )\n",
    "        self.relu1 = nn.ReLU(inplace = True)\n",
    "        # inplace = True 를 사용할 때 좋은 점은 입력 텐서의 메모리를 직접 수정하여 연산속도를 향상시키는 효과가 있다.\n",
    "        # 주의할 점은 원본 텐서가 수정되기 때문에, 연산 이후 원본 텐서를 사용하는 다른 연산에 영향을 줄 수 있다는 점이다.\n",
    "        self.conv2 = nn.Conv3d(\n",
    "            conv_channels, conv_channels, kernel_size = 3, padding = 1, bias = True,\n",
    "        )\n",
    "        self.relu2 = nn.ReLU(inplace = True)\n",
    "\n",
    "        self.maxpool = nn.MaxPool3d(2,2)\n",
    "\n",
    "    def forward(self, input_batch):\n",
    "        block_out = self.conv1(input_batch)\n",
    "        block_out = self.relu1(block_out)\n",
    "        block_out = self.conv2(block_out)\n",
    "        block_out = self.relu2(block_out)\n",
    "\n",
    "        return self.maxpool(block_out)"
   ]
  },
  {
   "cell_type": "code",
   "execution_count": null,
   "metadata": {},
   "outputs": [],
   "source": []
  }
 ],
 "metadata": {
  "kernelspec": {
   "display_name": "pytorch_master",
   "language": "python",
   "name": "python3"
  },
  "language_info": {
   "codemirror_mode": {
    "name": "ipython",
    "version": 3
   },
   "file_extension": ".py",
   "mimetype": "text/x-python",
   "name": "python",
   "nbconvert_exporter": "python",
   "pygments_lexer": "ipython3",
   "version": "3.10.12"
  }
 },
 "nbformat": 4,
 "nbformat_minor": 2
}
